{
  "nbformat": 4,
  "nbformat_minor": 0,
  "metadata": {
    "colab": {
      "name": "collab_test.ipynb",
      "version": "0.3.2",
      "provenance": [],
      "include_colab_link": true
    },
    "kernelspec": {
      "name": "python3",
      "display_name": "Python 3"
    }
  },
  "cells": [
    {
      "cell_type": "markdown",
      "metadata": {
        "id": "view-in-github",
        "colab_type": "text"
      },
      "source": [
        "<a href=\"https://colab.research.google.com/github/ivanbrugere/tapiafairml/blob/master/collab_test.ipynb\" target=\"_parent\"><img src=\"https://colab.research.google.com/assets/colab-badge.svg\" alt=\"Open In Colab\"/></a>"
      ]
    },
    {
      "cell_type": "markdown",
      "metadata": {
        "id": "7KfeXJR3PpEw",
        "colab_type": "text"
      },
      "source": [
        "Importing data from github"
      ]
    },
    {
      "cell_type": "code",
      "metadata": {
        "id": "T4Fy4Xr3PiV9",
        "colab_type": "code",
        "colab": {}
      },
      "source": [
        "import pandas as pd\n",
        "url = \"https://raw.githubusercontent.com/ivanbrugere/tapiafairml/master/here.txt\"\n",
        "d = pd.read_csv(url)\n",
        "print(d)"
      ],
      "execution_count": 0,
      "outputs": []
    }
  ]
}